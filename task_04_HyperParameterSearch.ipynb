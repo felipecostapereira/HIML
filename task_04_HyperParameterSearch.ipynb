{
 "cells": [
  {
   "cell_type": "markdown",
   "metadata": {},
   "source": [
    "## Task 04: Resampling and Hyperparameter Search (2022-04-05)\n",
    "\n",
    "\n",
    "So far we have used softmax, SVC, and kNN models. Now we will create them again with the same 3-storey structure dataset but using hyperparameter tuning by randomized search. To that end, provide the following items:\n",
    "1. Split your dataset into a) training/validation and b) test datasets (e.g. 60/40% ratio split)\n",
    "\n",
    "2. Use randomized search with repeated cross-validation for hyperparameter tuning. Use e.g. \n",
    "    \n",
    "    A. n_splits = 5, n_repeats = 50 [RepeatedKFold]\n",
    "\n",
    "    B. n_iter = 100, n_jobs = -1 (will use all your cores), cv = (object you created with RepeatedKFold in 2.A), scoring = (choose a performance metric for classification problems), [RandomizedSearchCV]\n",
    "    \n",
    "    C. Suggestion: create estimator in a list and a list of dictionaries for param_distributions, as shown in the slides [RandomizedSearchCV]\n",
    "\n",
    "3. Try to compare with the results obtained with the default configurations of each model constructor"
   ]
  },
  {
   "cell_type": "code",
   "execution_count": 1,
   "metadata": {},
   "outputs": [],
   "source": [
    "# execute this for the 1st time\n",
    "# !pip install -r example-requirements.txt \n",
    "\n",
    "# download file \n",
    "# !wget http://helon.usuarios.rdc.puc-rio.br/data/data3SS2009.mat # linux\n",
    "\n",
    "# and place in folder data/"
   ]
  },
  {
   "cell_type": "code",
   "execution_count": 2,
   "metadata": {},
   "outputs": [],
   "source": [
    "import scipy.io as sio\n",
    "import numpy as np\n",
    "from os import getcwd\n",
    "from os.path import join \n",
    "import matplotlib.pyplot as plt\n",
    "from statsmodels.tsa.ar_model import AutoReg\n",
    "import seaborn as sns\n",
    "import pandas as pd\n",
    "from sklearn.decomposition import PCA\n",
    "from sklearn.preprocessing import MinMaxScaler\n",
    "from sklearn.linear_model import LogisticRegression\n",
    "from sklearn.model_selection import train_test_split\n",
    "from sklearn.metrics import accuracy_score\n",
    "from tqdm import tqdm\n",
    "\n",
    "# task 03\n",
    "from sklearn.neighbors import KNeighborsClassifier\n",
    "from sklearn.svm import SVC\n",
    "from sklearn.model_selection import RandomizedSearchCV\n",
    "\n",
    "#allow to print all variables in the notebook\n",
    "from IPython.core.interactiveshell import InteractiveShell\n",
    "InteractiveShell.ast_node_interactivity = \"all\"\n",
    "\n",
    "%matplotlib inline\n",
    "\n",
    "from sklearn.model_selection import RepeatedKFold, RandomizedSearchCV\n",
    "from scipy import stats\n"
   ]
  },
  {
   "cell_type": "markdown",
   "metadata": {},
   "source": [
    "### Opening data file and Separating parameters and labels"
   ]
  },
  {
   "cell_type": "code",
   "execution_count": 3,
   "metadata": {},
   "outputs": [],
   "source": [
    "fname = join(getcwd(),'data','data3SS2009.mat')\n",
    "mat_contents = sio.loadmat(fname)\n",
    "\n",
    "dataset = mat_contents['dataset']\n",
    "N, Chno, Nc = dataset.shape\n",
    "y = mat_contents['labels'].reshape(Nc)\n"
   ]
  },
  {
   "cell_type": "markdown",
   "metadata": {},
   "source": [
    "### Building AR Model"
   ]
  },
  {
   "cell_type": "code",
   "execution_count": 4,
   "metadata": {},
   "outputs": [
    {
     "data": {
      "text/plain": [
       "(850, 120)"
      ]
     },
     "execution_count": 4,
     "metadata": {},
     "output_type": "execute_result"
    }
   ],
   "source": [
    "modelOrder = 30\n",
    "\n",
    "x2 = dataset[:,1,:].transpose() # acelerômetro: base\n",
    "x3 = dataset[:,2,:].transpose() # acelerômetro: 1o andar\n",
    "x4 = dataset[:,3,:].transpose() # acelerômetro: 2o andar\n",
    "x5 = dataset[:,4,:].transpose() # acelerômetro: 3o andar\n",
    "\n",
    "x2r = [] \n",
    "x3r = []\n",
    "x4r = []\n",
    "x5r = []\n",
    "\n",
    "for case in x2: #iterating over cases (observations #=850)\n",
    "    res = AutoReg(case, lags = modelOrder-1).fit()\n",
    "    x2r.append(res.params)\n",
    "for case in x3: #iterating over cases (observations #=850)\n",
    "    res = AutoReg(case, lags = modelOrder-1).fit()\n",
    "    x3r.append(res.params)\n",
    "for case in x4: #iterating over cases (observations #=850)\n",
    "    res = AutoReg(case, lags = modelOrder-1).fit()\n",
    "    x4r.append(res.params)\n",
    "for case in x5: #iterating over cases (observations #=850)\n",
    "    res = AutoReg(case, lags = modelOrder-1).fit()\n",
    "    x5r.append(res.params)\n",
    "\n",
    "X1 = np.concatenate([x2r, x3r, x4r, x5r], axis=1)\n",
    "X1.shape"
   ]
  },
  {
   "cell_type": "markdown",
   "metadata": {},
   "source": [
    "### PCA analysis"
   ]
  },
  {
   "cell_type": "code",
   "execution_count": 5,
   "metadata": {},
   "outputs": [
    {
     "data": {
      "image/png": "[encoded data removed]",
      "text/plain": [
       "<Figure size 432x288 with 2 Axes>"
      ]
     },
     "metadata": {
      "needs_background": "light"
     },
     "output_type": "display_data"
    }
   ],
   "source": [
    "nComponents = 0.95  # variance ratio to be explained or number of components if integer\n",
    "\n",
    "pca = PCA(n_components=nComponents).fit(X1)\n",
    "pcaVariances = pca.explained_variance_ratio_\n",
    "pcaComponents = [i for i in range(len(pcaVariances))]\n",
    "\n",
    "ax = sns.barplot(pcaComponents, pcaVariances*100, color='b');\n",
    "ax2 = ax.twinx()\n",
    "ax2 = sns.lineplot(pcaComponents, np.cumsum(pcaVariances)*100, color='r', marker='D');\n",
    "ax.tick_params(axis='y', colors='b')\n",
    "ax2.tick_params(axis='y', colors='r')\n",
    "\n",
    "ax.set_title('PCA: nc= ' + str(pcaVariances.shape[0]) + ', explained variance = ' + str(sum(pcaVariances))[:5])\n",
    "ax.set_xlabel('PCA coefficent')\n",
    "ax.set_ylabel('Explained Variance [%]')\n",
    "ax2.set_ylabel('Cumulative Explained Variance [%]')\n",
    "pass;"
   ]
  },
  {
   "cell_type": "markdown",
   "metadata": {},
   "source": [
    "### Building x2 by transforming the x1 data with the previous PCA model and scaling X2"
   ]
  },
  {
   "cell_type": "code",
   "execution_count": 6,
   "metadata": {},
   "outputs": [],
   "source": [
    "X2 = pca.fit_transform(X1)\n",
    "X1_scaled = MinMaxScaler(feature_range=(-1,1)).fit_transform(X1)\n",
    "X2_scaled = MinMaxScaler(feature_range=(-1,1)).fit_transform(X2)"
   ]
  },
  {
   "cell_type": "markdown",
   "metadata": {},
   "source": [
    "### Creating pandas dataframe versions of the scaled x and x2, adding their labels"
   ]
  },
  {
   "cell_type": "code",
   "execution_count": 7,
   "metadata": {},
   "outputs": [],
   "source": [
    "dfx1 = pd.DataFrame(X1_scaled)\n",
    "dfx1 = dfx1.copy()\n",
    "dfx1['label'] = y\n",
    "\n",
    "dfx2 = pd.DataFrame(X2_scaled)\n",
    "dfx2 = dfx2.copy()\n",
    "dfx2['label'] = y"
   ]
  },
  {
   "cell_type": "markdown",
   "metadata": {},
   "source": [
    "###  1. Split your dataset into a) training/validation and b) test datasets (e.g. 60/40% ratio split)"
   ]
  },
  {
   "cell_type": "code",
   "execution_count": 8,
   "metadata": {},
   "outputs": [],
   "source": [
    "# From now on we dont use the '_scaled' for the test and train ensemples anymore\n",
    "test_size = 0.40\n",
    "\n",
    "X1_train, X1_test, y_train, y_test = train_test_split(X1_scaled, y, test_size=test_size, random_state=10)\n",
    "X2_train, X2_test, y2_train, y2_test = train_test_split(X2_scaled, y, test_size=test_size, random_state=10)"
   ]
  },
  {
   "cell_type": "markdown",
   "metadata": {},
   "source": [
    "### Softmax Linear Model (logistic regression with multiple classes) for the PCA reduced database"
   ]
  },
  {
   "cell_type": "code",
   "execution_count": 9,
   "metadata": {},
   "outputs": [
    {
     "data": {
      "image/png": "[encoded data removed]",
      "text/plain": [
       "<Figure size 432x432 with 1 Axes>"
      ]
     },
     "metadata": {
      "needs_background": "light"
     },
     "output_type": "display_data"
    }
   ],
   "source": [
    "#PCA SOFTMAX\n",
    "model_PCA_Soft = LogisticRegression(multi_class='multinomial', max_iter=200).fit(X2_train, y_train)\n",
    "\n",
    "yPred2_train = model_PCA_Soft.predict(X2_train)\n",
    "yPred2_test = model_PCA_Soft.predict(X2_test)\n",
    "\n",
    "fig = plt.figure(figsize=(6, 6));\n",
    "x=np.arange(1,18,1);\n",
    "\n",
    "ax = sns.scatterplot(y_test,yPred2_test, s=50);\n",
    "ax.set_xlabel('True label');\n",
    "ax.set_ylabel('Predicted label');\n",
    "ax=sns.lineplot(x=x, y=x, color='r');\n",
    "ax.legend(['x=y (correct predictions)','PCA Softmax']);\n",
    "\n",
    "ax.set_title('Softmax using Autoreg');"
   ]
  },
  {
   "cell_type": "markdown",
   "metadata": {},
   "source": [
    "___"
   ]
  },
  {
   "cell_type": "markdown",
   "metadata": {},
   "source": [
    "### Fitting SVM and k-NN with their default params, then saving it to a results Dataframe"
   ]
  },
  {
   "cell_type": "code",
   "execution_count": 42,
   "metadata": {},
   "outputs": [
    {
     "data": {
      "image/png": "[encoded data removed]",
      "text/plain": [
       "<Figure size 405.6x432 with 1 Axes>"
      ]
     },
     "metadata": {
      "needs_background": "light"
     },
     "output_type": "display_data"
    }
   ],
   "source": [
    "# Previous Model Softmax PCA\n",
    "dfResults = pd.DataFrame({\n",
    "        'Model': ['SoftMax'], \n",
    "        'Hyperparam': ['Default'], \n",
    "        'Train': accuracy_score(y_train, yPred2_train), \n",
    "        'Test': accuracy_score(y_test, yPred2_test)\n",
    "        })\n",
    "\n",
    "for i,model in enumerate([SVC(),KNeighborsClassifier()]):\n",
    "    modelTrained = model.fit(X2_train, y_train)\n",
    "    \n",
    "    yPred_train = modelTrained.predict(X2_train)\n",
    "    yPred_test = modelTrained.predict(X2_test)\n",
    "\n",
    "    dfResults = dfResults.append(pd.DataFrame({\n",
    "        'Model': [str(model).split('(')[0]],\n",
    "        'Hyperparam': ['Default'], \n",
    "        'Train': accuracy_score(y_train, yPred_train), \n",
    "        'Test': accuracy_score(y_test, yPred_test)\n",
    "        }))\n",
    "\n",
    "# unpivot dfResults in case of plotting graphs\n",
    "dfResultsPlot = dfResults.melt(id_vars=['Model', 'Hyperparam'], value_name='Accuracy', var_name='Ensemble')\n",
    "\n",
    "ax = sns.catplot(x='Model', y='Accuracy', hue='Ensemble', data=dfResultsPlot, kind=\"bar\", height=6, aspect=0.8);\n",
    "ax.set(ylim=(0.85, .95));\n",
    "ax.fig.subplots_adjust(top=.88) # adjust the Figure in rpxax\n",
    "ax.fig.suptitle('Models results with default parameters');\n",
    "# plt.xticks(rotation=0)\n",
    "pass;"
   ]
  },
  {
   "cell_type": "markdown",
   "metadata": {},
   "source": [
    "### 2. Use randomized search with repeated cross-validation for hyperparameter tuning. Use e.g. \n",
    "\n",
    "    A. n_splits = 5, n_repeats = 50 [RepeatedKFold]\n"
   ]
  },
  {
   "cell_type": "code",
   "execution_count": 11,
   "metadata": {},
   "outputs": [
    {
     "data": {
      "text/plain": [
       "RepeatedKFold(n_repeats=50, n_splits=6, random_state=10)"
      ]
     },
     "execution_count": 11,
     "metadata": {},
     "output_type": "execute_result"
    }
   ],
   "source": [
    "k_folds = 6\n",
    "n_repeats = 50\n",
    "rkf = RepeatedKFold(n_splits=k_folds, n_repeats=n_repeats, random_state=10)\n",
    "\n",
    "rkf"
   ]
  },
  {
   "cell_type": "markdown",
   "metadata": {},
   "source": [
    "\n",
    "    B. n_iter = 100, n_jobs = -1 (will use all your cores), cv = (object you created with RepeatedKFold in 2.A), scoring = (choose a performance metric for classification problems), [RandomizedSearchCV]\n",
    "\n",
    "    C. Suggestion: create estimator in a list and a list of dictionaries for param_distributions, as shown in the slides [RandomizedSearchCV]\n"
   ]
  },
  {
   "cell_type": "code",
   "execution_count": 52,
   "metadata": {},
   "outputs": [
    {
     "data": {
      "text/plain": [
       "(2,\n",
       " [{'n_neighbors': <scipy.stats._distn_infrastructure.rv_frozen at 0x194ee5df580>,\n",
       "   'weights': ['uniform', 'distance'],\n",
       "   'algorithm': ['auto', 'ball_tree', 'kd_tree', 'brute'],\n",
       "   'leaf_size': <scipy.stats._distn_infrastructure.rv_frozen at 0x194f18798e0>,\n",
       "   'p': <scipy.stats._distn_infrastructure.rv_frozen at 0x194f1879490>}],\n",
       " [{'C': <scipy.stats._distn_infrastructure.rv_frozen at 0x194ee5df3d0>,\n",
       "   'kernel': ['linear', 'poly', 'rbf', 'sigmoid'],\n",
       "   'degree': <scipy.stats._distn_infrastructure.rv_frozen at 0x194ee5df8b0>,\n",
       "   'gamma': ['scale', 'auto']}])"
      ]
     },
     "execution_count": 52,
     "metadata": {},
     "output_type": "execute_result"
    },
    {
     "data": {
      "text/plain": [
       "(2, KNeighborsClassifier(), SVC())"
      ]
     },
     "execution_count": 52,
     "metadata": {},
     "output_type": "execute_result"
    }
   ],
   "source": [
    "n_iter = 100\n",
    "n_jobs = -1\n",
    "scoring = 'accuracy'\n",
    "\n",
    "param_grids = []\n",
    "param_grids.append([# KNN = 0\n",
    "        {\n",
    "            'n_neighbors':  stats.randint(3,11), # def = 5\n",
    "            'weights': ['uniform', 'distance'], \n",
    "            'algorithm': ['auto', 'ball_tree', 'kd_tree', 'brute'], \n",
    "            'leaf_size': stats.randint(10,40), #def = 30\n",
    "            'p': stats.randint(1,10) #def = 2\n",
    "        }])\n",
    "param_grids.append([# SVC = 1\n",
    "        {\n",
    "            'C':  stats.randint(1,25), # def=1\n",
    "            'kernel': ['linear', 'poly', 'rbf', 'sigmoid'], # excluded 'precomputed' cause it demands a square X matrix, not the case\n",
    "            'degree': stats.randint(1,15), # def = 3\n",
    "            'gamma': ['scale','auto']\n",
    "        }])\n",
    "\n",
    "models = [KNeighborsClassifier(), SVC()]\n",
    "\n",
    "len(param_grids), param_grids[0], param_grids[1]\n",
    "len(models), models[0], models[1]\n",
    "\n"
   ]
  },
  {
   "cell_type": "code",
   "execution_count": 53,
   "metadata": {},
   "outputs": [
    {
     "data": {
      "text/plain": [
       "RandomizedSearchCV(cv=RepeatedKFold(n_repeats=50, n_splits=6, random_state=10),\n",
       "                   estimator=KNeighborsClassifier(), n_iter=100, n_jobs=-1,\n",
       "                   param_distributions=[{'algorithm': ['auto', 'ball_tree',\n",
       "                                                       'kd_tree', 'brute'],\n",
       "                                         'leaf_size': <scipy.stats._distn_infrastructure.rv_frozen object at 0x00000194F18798E0>,\n",
       "                                         'n_neighbors': <scipy.stats._distn_infrastructure.rv_frozen object at 0x00000194EE5DF580>,\n",
       "                                         'p': <scipy.stats._distn_infrastructure.rv_frozen object at 0x00000194F1879490>,\n",
       "                                         'weights': ['uniform', 'distance']}],\n",
       "                   random_state=10, scoring='accuracy')"
      ]
     },
     "execution_count": 53,
     "metadata": {},
     "output_type": "execute_result"
    },
    {
     "data": {
      "text/plain": [
       "RandomizedSearchCV(cv=RepeatedKFold(n_repeats=50, n_splits=6, random_state=10),\n",
       "                   estimator=SVC(), n_iter=100, n_jobs=-1,\n",
       "                   param_distributions=[{'C': <scipy.stats._distn_infrastructure.rv_frozen object at 0x00000194EE5DF3D0>,\n",
       "                                         'degree': <scipy.stats._distn_infrastructure.rv_frozen object at 0x00000194EE5DF8B0>,\n",
       "                                         'gamma': ['scale', 'auto'],\n",
       "                                         'kernel': ['linear', 'poly', 'rbf',\n",
       "                                                    'sigmoid']}],\n",
       "                   random_state=10, scoring='accuracy')"
      ]
     },
     "execution_count": 53,
     "metadata": {},
     "output_type": "execute_result"
    }
   ],
   "source": [
    "random_search_results = []\n",
    "\n",
    "for k in range(len(models)):\n",
    "    random_search = RandomizedSearchCV(models[k], verbose=0, scoring=scoring, param_distributions=param_grids[k], n_iter=n_iter, n_jobs=n_jobs, cv=rkf, random_state=10);\n",
    "    random_search.fit(X2_train, y_train)\n",
    "\n",
    "    # saving rscv instances    \n",
    "    random_search_results.append(random_search)\n"
   ]
  },
  {
   "cell_type": "code",
   "execution_count": 54,
   "metadata": {},
   "outputs": [
    {
     "data": {
      "text/plain": [
       "KNeighborsClassifier(p=3, weights='distance')"
      ]
     },
     "execution_count": 54,
     "metadata": {},
     "output_type": "execute_result"
    },
    {
     "data": {
      "text/plain": [
       "0.9"
      ]
     },
     "execution_count": 54,
     "metadata": {},
     "output_type": "execute_result"
    },
    {
     "data": {
      "text/plain": [
       "SVC(C=13, kernel='poly')"
      ]
     },
     "execution_count": 54,
     "metadata": {},
     "output_type": "execute_result"
    },
    {
     "data": {
      "text/plain": [
       "0.9264705882352942"
      ]
     },
     "execution_count": 54,
     "metadata": {},
     "output_type": "execute_result"
    },
    {
     "data": {
      "text/html": [
       "<div>\n",
       "<style scoped>\n",
       "    .dataframe tbody tr th:only-of-type {\n",
       "        vertical-align: middle;\n",
       "    }\n",
       "\n",
       "    .dataframe tbody tr th {\n",
       "        vertical-align: top;\n",
       "    }\n",
       "\n",
       "    .dataframe thead th {\n",
       "        text-align: right;\n",
       "    }\n",
       "</style>\n",
       "<table border=\"1\" class=\"dataframe\">\n",
       "  <thead>\n",
       "    <tr style=\"text-align: right;\">\n",
       "      <th></th>\n",
       "      <th>Model</th>\n",
       "      <th>Hyperparam</th>\n",
       "      <th>Train</th>\n",
       "      <th>Test</th>\n",
       "    </tr>\n",
       "  </thead>\n",
       "  <tbody>\n",
       "    <tr>\n",
       "      <th>0</th>\n",
       "      <td>SoftMax</td>\n",
       "      <td>Default</td>\n",
       "      <td>0.896078</td>\n",
       "      <td>0.879412</td>\n",
       "    </tr>\n",
       "    <tr>\n",
       "      <th>0</th>\n",
       "      <td>SVC</td>\n",
       "      <td>Default</td>\n",
       "      <td>0.927451</td>\n",
       "      <td>0.908824</td>\n",
       "    </tr>\n",
       "    <tr>\n",
       "      <th>0</th>\n",
       "      <td>KNeighborsClassifier</td>\n",
       "      <td>Default</td>\n",
       "      <td>0.931373</td>\n",
       "      <td>0.902941</td>\n",
       "    </tr>\n",
       "  </tbody>\n",
       "</table>\n",
       "</div>"
      ],
      "text/plain": [
       "                  Model Hyperparam     Train      Test\n",
       "0               SoftMax    Default  0.896078  0.879412\n",
       "0                   SVC    Default  0.927451  0.908824\n",
       "0  KNeighborsClassifier    Default  0.931373  0.902941"
      ]
     },
     "execution_count": 54,
     "metadata": {},
     "output_type": "execute_result"
    },
    {
     "data": {
      "text/html": [
       "<div>\n",
       "<style scoped>\n",
       "    .dataframe tbody tr th:only-of-type {\n",
       "        vertical-align: middle;\n",
       "    }\n",
       "\n",
       "    .dataframe tbody tr th {\n",
       "        vertical-align: top;\n",
       "    }\n",
       "\n",
       "    .dataframe thead th {\n",
       "        text-align: right;\n",
       "    }\n",
       "</style>\n",
       "<table border=\"1\" class=\"dataframe\">\n",
       "  <thead>\n",
       "    <tr style=\"text-align: right;\">\n",
       "      <th></th>\n",
       "    </tr>\n",
       "  </thead>\n",
       "  <tbody>\n",
       "  </tbody>\n",
       "</table>\n",
       "</div>"
      ],
      "text/plain": [
       "Empty DataFrame\n",
       "Columns: []\n",
       "Index: []"
      ]
     },
     "execution_count": 54,
     "metadata": {},
     "output_type": "execute_result"
    }
   ],
   "source": [
    "dfResults_rscv = pd.DataFrame()\n",
    "\n",
    "for rscv in random_search_results:\n",
    "    rscv.best_estimator_\n",
    "    # rscv.best_params_\n",
    "    # rscv.best_score_    #on average\n",
    "    y_hat = rscv.predict(X2_test)\n",
    "\n",
    "    accuracy_score(y_hat, y_test)\n",
    "        \n",
    "    # dfResults_rscv = dfResults_rscv.append(pd.DataFrame({\n",
    "    #     'Model': [rscv.best_estimator_],\n",
    "    #     'Hyperparam': 'Optimized', \n",
    "    #     'Train': rscv.best_estimator_.predict, \n",
    "    #     'Test': [rscv.best_score_]\n",
    "    #     }))\n",
    "\n",
    "dfResults\n",
    "dfResults_rscv\n"
   ]
  },
  {
   "cell_type": "code",
   "execution_count": 24,
   "metadata": {},
   "outputs": [
    {
     "name": "stderr",
     "output_type": "stream",
     "text": [
      "100%|██████████| 4/4 [00:01<00:00,  2.82it/s]\n"
     ]
    },
    {
     "data": {
      "text/html": [
       "<div>\n",
       "<style scoped>\n",
       "    .dataframe tbody tr th:only-of-type {\n",
       "        vertical-align: middle;\n",
       "    }\n",
       "\n",
       "    .dataframe tbody tr th {\n",
       "        vertical-align: top;\n",
       "    }\n",
       "\n",
       "    .dataframe thead th {\n",
       "        text-align: right;\n",
       "    }\n",
       "</style>\n",
       "<table border=\"1\" class=\"dataframe\">\n",
       "  <thead>\n",
       "    <tr style=\"text-align: right;\">\n",
       "      <th></th>\n",
       "      <th>Family</th>\n",
       "      <th>Model</th>\n",
       "      <th>Train</th>\n",
       "      <th>Test</th>\n",
       "    </tr>\n",
       "  </thead>\n",
       "  <tbody>\n",
       "    <tr>\n",
       "      <th>0</th>\n",
       "      <td>KNeighborsClassifier</td>\n",
       "      <td>KNeighborsClassifier</td>\n",
       "      <td>0.933518</td>\n",
       "      <td>0.921875</td>\n",
       "    </tr>\n",
       "    <tr>\n",
       "      <th>0</th>\n",
       "      <td>SVC</td>\n",
       "      <td>SVC</td>\n",
       "      <td>0.930748</td>\n",
       "      <td>0.890625</td>\n",
       "    </tr>\n",
       "    <tr>\n",
       "      <th>0</th>\n",
       "      <td>SVC</td>\n",
       "      <td>SVC_Optim</td>\n",
       "      <td>0.954294</td>\n",
       "      <td>0.953125</td>\n",
       "    </tr>\n",
       "    <tr>\n",
       "      <th>0</th>\n",
       "      <td>SoftMax</td>\n",
       "      <td>SoftMax_AR</td>\n",
       "      <td>0.998615</td>\n",
       "      <td>1.000000</td>\n",
       "    </tr>\n",
       "    <tr>\n",
       "      <th>1</th>\n",
       "      <td>SoftMax</td>\n",
       "      <td>SoftMax_PCA</td>\n",
       "      <td>0.903047</td>\n",
       "      <td>0.882812</td>\n",
       "    </tr>\n",
       "  </tbody>\n",
       "</table>\n",
       "</div>"
      ],
      "text/plain": [
       "                 Family                 Model     Train      Test\n",
       "0  KNeighborsClassifier  KNeighborsClassifier  0.933518  0.921875\n",
       "0                   SVC                   SVC  0.930748  0.890625\n",
       "0                   SVC             SVC_Optim  0.954294  0.953125\n",
       "0               SoftMax            SoftMax_AR  0.998615  1.000000\n",
       "1               SoftMax           SoftMax_PCA  0.903047  0.882812"
      ]
     },
     "execution_count": 24,
     "metadata": {},
     "output_type": "execute_result"
    }
   ],
   "source": [
    "kernels = ['linear', 'poly', 'rbf', 'sigmoid']\n",
    "cValues = np.arange(1, 21)\n",
    "\n",
    "best_model = SVC()\n",
    "best_accTest = 0\n",
    "best_accTrain = 0\n",
    "\n",
    "for k in tqdm(kernels):\n",
    "    for c in cValues:\n",
    "        modelTrained = SVC(C=c, kernel=k).fit(X2_train, y_train)\n",
    "\n",
    "        yPred_train = modelTrained.predict(X2_train)\n",
    "        yPred_test = modelTrained.predict(X2_test)\n",
    "        \n",
    "        accTrain = accuracy_score(y_train, yPred_train)\n",
    "        accTest = accuracy_score(y_test, yPred_test)\n",
    "        \n",
    "        if (accTest >= best_accTest):\n",
    "            best_model = modelTrained\n",
    "            best_accTrain = accTrain\n",
    "            best_accTest = accTest\n",
    "\n",
    "dfResults2 = dfResults.append(pd.DataFrame({\n",
    "    'Family': [\"SVC\"],    \n",
    "    'Model': [\"SVC_Optim\"],  \n",
    "    'Train': [best_accTrain], \n",
    "    'Test': [best_accTest]}))\n",
    "\n",
    "dfResults2 = dfResults2.sort_values(by=['Model'])\n",
    "dfResults2"
   ]
  },
  {
   "cell_type": "markdown",
   "metadata": {},
   "source": [
    "### Best SVM params"
   ]
  },
  {
   "cell_type": "code",
   "execution_count": 25,
   "metadata": {},
   "outputs": [
    {
     "data": {
      "text/plain": [
       "14"
      ]
     },
     "execution_count": 25,
     "metadata": {},
     "output_type": "execute_result"
    },
    {
     "data": {
      "text/plain": [
       "'rbf'"
      ]
     },
     "execution_count": 25,
     "metadata": {},
     "output_type": "execute_result"
    }
   ],
   "source": [
    "best_model.get_params().get('C')\n",
    "best_model.get_params().get('kernel')"
   ]
  },
  {
   "cell_type": "markdown",
   "metadata": {},
   "source": [
    "### Optimizing k-nn number of neighboors, algorithm and leaf size\n",
    "\n",
    "Note: measuring the quality of the model based on the Test set accuracy"
   ]
  },
  {
   "cell_type": "code",
   "execution_count": 26,
   "metadata": {},
   "outputs": [
    {
     "name": "stderr",
     "output_type": "stream",
     "text": [
      "100%|██████████| 4/4 [00:16<00:00,  4.22s/it]\n"
     ]
    },
    {
     "data": {
      "text/html": [
       "<div>\n",
       "<style scoped>\n",
       "    .dataframe tbody tr th:only-of-type {\n",
       "        vertical-align: middle;\n",
       "    }\n",
       "\n",
       "    .dataframe tbody tr th {\n",
       "        vertical-align: top;\n",
       "    }\n",
       "\n",
       "    .dataframe thead th {\n",
       "        text-align: right;\n",
       "    }\n",
       "</style>\n",
       "<table border=\"1\" class=\"dataframe\">\n",
       "  <thead>\n",
       "    <tr style=\"text-align: right;\">\n",
       "      <th></th>\n",
       "      <th>Family</th>\n",
       "      <th>Model</th>\n",
       "      <th>Train</th>\n",
       "      <th>Test</th>\n",
       "    </tr>\n",
       "  </thead>\n",
       "  <tbody>\n",
       "    <tr>\n",
       "      <th>0</th>\n",
       "      <td>KNeighborsClassifier</td>\n",
       "      <td>KNeighborsClassifier</td>\n",
       "      <td>0.933518</td>\n",
       "      <td>0.921875</td>\n",
       "    </tr>\n",
       "    <tr>\n",
       "      <th>0</th>\n",
       "      <td>KNeighborsClassifier</td>\n",
       "      <td>KNeighborsClassifier_Optim</td>\n",
       "      <td>0.944598</td>\n",
       "      <td>0.937500</td>\n",
       "    </tr>\n",
       "    <tr>\n",
       "      <th>0</th>\n",
       "      <td>SVC</td>\n",
       "      <td>SVC</td>\n",
       "      <td>0.930748</td>\n",
       "      <td>0.890625</td>\n",
       "    </tr>\n",
       "    <tr>\n",
       "      <th>0</th>\n",
       "      <td>SVC</td>\n",
       "      <td>SVC_Optim</td>\n",
       "      <td>0.954294</td>\n",
       "      <td>0.953125</td>\n",
       "    </tr>\n",
       "    <tr>\n",
       "      <th>0</th>\n",
       "      <td>SoftMax</td>\n",
       "      <td>SoftMax_AR</td>\n",
       "      <td>0.998615</td>\n",
       "      <td>1.000000</td>\n",
       "    </tr>\n",
       "    <tr>\n",
       "      <th>1</th>\n",
       "      <td>SoftMax</td>\n",
       "      <td>SoftMax_PCA</td>\n",
       "      <td>0.903047</td>\n",
       "      <td>0.882812</td>\n",
       "    </tr>\n",
       "  </tbody>\n",
       "</table>\n",
       "</div>"
      ],
      "text/plain": [
       "                 Family                       Model     Train      Test\n",
       "0  KNeighborsClassifier        KNeighborsClassifier  0.933518  0.921875\n",
       "0  KNeighborsClassifier  KNeighborsClassifier_Optim  0.944598  0.937500\n",
       "0                   SVC                         SVC  0.930748  0.890625\n",
       "0                   SVC                   SVC_Optim  0.954294  0.953125\n",
       "0               SoftMax                  SoftMax_AR  0.998615  1.000000\n",
       "1               SoftMax                 SoftMax_PCA  0.903047  0.882812"
      ]
     },
     "execution_count": 26,
     "metadata": {},
     "output_type": "execute_result"
    }
   ],
   "source": [
    "algorithms = ['auto', 'ball_tree', 'kd_tree', 'brute']\n",
    "leaf_sizes = np.arange(20, 60, 4) \n",
    "nnValues = np.arange(1, 21, 2)\n",
    "\n",
    "best_model = KNeighborsClassifier()\n",
    "best_accTest = 0\n",
    "best_accTrain = 0\n",
    "\n",
    "for a in tqdm(algorithms):\n",
    "    for ls in leaf_sizes:\n",
    "        for nn in nnValues:\n",
    "            modelTrained = KNeighborsClassifier(n_neighbors=nn, leaf_size=ls, algorithm=a).fit(X2_train, y_train)\n",
    "\n",
    "            yPred_train = modelTrained.predict(X2_train)\n",
    "            yPred_test = modelTrained.predict(X2_test)\n",
    "            \n",
    "            accTrain = accuracy_score(y_train, yPred_train)\n",
    "            accTest = accuracy_score(y_test, yPred_test)\n",
    "            \n",
    "            if (accTest >= best_accTest):\n",
    "                best_model = modelTrained\n",
    "                best_accTrain = accTrain\n",
    "                best_accTest = accTest\n",
    "\n",
    "dfResults2 = dfResults2.append(pd.DataFrame({\n",
    "    'Family': [\"KNeighborsClassifier\"],\n",
    "    'Model': [\"KNeighborsClassifier_Optim\"],\n",
    "    'Train': [best_accTrain], \n",
    "    'Test': [best_accTest]}))\n",
    "\n",
    "dfResults2 = dfResults2.sort_values(by=['Model'])\n",
    "dfResults2\n"
   ]
  },
  {
   "cell_type": "markdown",
   "metadata": {},
   "source": [
    "### Best kNN params"
   ]
  },
  {
   "cell_type": "code",
   "execution_count": 27,
   "metadata": {},
   "outputs": [
    {
     "data": {
      "text/plain": [
       "'brute'"
      ]
     },
     "execution_count": 27,
     "metadata": {},
     "output_type": "execute_result"
    },
    {
     "data": {
      "text/plain": [
       "56"
      ]
     },
     "execution_count": 27,
     "metadata": {},
     "output_type": "execute_result"
    },
    {
     "data": {
      "text/plain": [
       "3"
      ]
     },
     "execution_count": 27,
     "metadata": {},
     "output_type": "execute_result"
    }
   ],
   "source": [
    "best_model.get_params().get('algorithm')\n",
    "best_model.get_params().get('leaf_size')\n",
    "best_model.get_params().get('n_neighbors')"
   ]
  },
  {
   "cell_type": "markdown",
   "metadata": {},
   "source": [
    "### Results and Discussion"
   ]
  },
  {
   "cell_type": "code",
   "execution_count": 28,
   "metadata": {},
   "outputs": [
    {
     "data": {
      "image/png": "[encoded data removed]",
      "text/plain": [
       "<Figure size 679.375x360 with 1 Axes>"
      ]
     },
     "metadata": {
      "needs_background": "light"
     },
     "output_type": "display_data"
    }
   ],
   "source": [
    "ax = sns.catplot(x=\"Test\", y=\"Model\", hue=\"Family\", data=dfResults2, kind='point', height=5, aspect=1.5, legend_out=True, margin_titles=False);\n",
    "ax.set_xlabels(\"Test Accuraxy\")\n",
    "ax.fig.suptitle(\"Test Accuracy of some models\")\n",
    "ax.fig.subplots_adjust(top=0.9)\n",
    "pass;"
   ]
  },
  {
   "cell_type": "code",
   "execution_count": 29,
   "metadata": {},
   "outputs": [
    {
     "data": {
      "image/png": "[encoded data removed]",
      "text/plain": [
       "<Figure size 576x576 with 1 Axes>"
      ]
     },
     "metadata": {
      "needs_background": "light"
     },
     "output_type": "display_data"
    }
   ],
   "source": [
    "plt.subplots(figsize=(8,8))\n",
    "ax = sns.scatterplot(x=\"Train\", y=\"Test\", hue=\"Model\", style='Family', data=dfResults2[dfResults2['Model'] != 'SoftMax_AR'], s=300);\n",
    "ax.set_xlabel('Train Accuracy');\n",
    "ax.set_ylabel('Test Accuracy');\n",
    "ax.set_title('Comparing some models performance');"
   ]
  },
  {
   "cell_type": "markdown",
   "metadata": {},
   "source": [
    "### Notes:\n",
    "\n",
    "1. Both fitted SVM and K-Nearest Neighbors models were based on the X2 Dataset, so we use the Softmax based on the PCA dimmensionallity reduction as being a referenece case for comparison\n",
    "\n",
    "2. No SVM or k-NN model performed better than the Autoregression Softmax. It still looks like all the other methods loses a bit of accuracy as they're based on dimensionallity reduction\n",
    "\n",
    "3. Both k-NN and SVM got a higher performance when \"optimized\" (This optimization was not exhaustive and only considered some runs of the fit method testing some combinations of some parameters and comparing the Test set accuracy)\n",
    "    * SVM gain of accuracy: $ \\frac{accuracy(optimized)}{accuracy(default)}-1 = \\frac{0.9531}{0.8906}-1 = 7\\% $\n",
    "    \n",
    "    * k-NN gain of accuracy: $ \\frac{accuracy(optimized)}{accuracy(default)}-1 = \\frac{0.9375}{0.9217}-1 = 1.7\\% $\n",
    "\n",
    "4. We noticed that as we change the size of the trainning set {10, 15, 20, 30% of X2} a few cells above, the models vary a lot their performance, leading into different best models/parameters conclusion. This can be related to the small size of the dataset and maybe can be adressed by further techniques like cross fold validation.\n"
   ]
  }
 ],
 "metadata": {
  "interpreter": {
   "hash": "ac59ebe37160ed0dfa835113d9b8498d9f09ceb179beaac4002f036b9467c963"
  },
  "kernelspec": {
   "display_name": "Python 3.9.11 64-bit",
   "language": "python",
   "name": "python3"
  },
  "language_info": {
   "codemirror_mode": {
    "name": "ipython",
    "version": 3
   },
   "file_extension": ".py",
   "mimetype": "text/x-python",
   "name": "python",
   "nbconvert_exporter": "python",
   "pygments_lexer": "ipython3",
   "version": "3.8.3"
  },
  "orig_nbformat": 4
 },
 "nbformat": 4,
 "nbformat_minor": 2
}
