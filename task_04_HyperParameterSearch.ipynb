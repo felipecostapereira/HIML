{
 "cells": [
  {
   "cell_type": "markdown",
   "metadata": {},
   "source": [
    "## Task 04: Resampling and Hyperparameter Search (2022-04-05)\n",
    "\n",
    "\n",
    "So far we have used softmax, SVC, and kNN models. Now we will create them again with the same 3-storey structure dataset but using hyperparameter tuning by randomized search. To that end, provide the following items:\n",
    "1. Split your dataset into a) training/validation and b) test datasets (e.g. 60/40% ratio split)\n",
    "\n",
    "2. Use randomized search with repeated cross-validation for hyperparameter tuning. Use e.g. \n",
    "    \n",
    "    A. n_splits = 5, n_repeats = 50 [RepeatedKFold]\n",
    "\n",
    "    B. n_iter = 100, n_jobs = -1 (will use all your cores), cv = (object you created with RepeatedKFold in 2.A), scoring = (choose a performance metric for classification problems), [RandomizedSearchCV]\n",
    "    \n",
    "    C. Suggestion: create estimator in a list and a list of dictionaries for param_distributions, as shown in the slides [RandomizedSearchCV]\n",
    "\n",
    "3. Try to compare with the results obtained with the default configurations of each model constructor"
   ]
  },
  {
   "cell_type": "code",
   "execution_count": 1,
   "metadata": {},
   "outputs": [],
   "source": [
    "# execute this for the 1st time\n",
    "# !pip install -r example-requirements.txt \n",
    "\n",
    "# download file \n",
    "# !wget http://helon.usuarios.rdc.puc-rio.br/data/data3SS2009.mat # linux\n",
    "\n",
    "# and place in folder data/"
   ]
  },
  {
   "cell_type": "code",
   "execution_count": 2,
   "metadata": {},
   "outputs": [],
   "source": [
    "import scipy.io as sio\n",
    "import numpy as np\n",
    "from os import getcwd\n",
    "from os.path import join \n",
    "import matplotlib.pyplot as plt\n",
    "from statsmodels.tsa.ar_model import AutoReg\n",
    "import seaborn as sns\n",
    "import pandas as pd\n",
    "from sklearn.decomposition import PCA\n",
    "from sklearn.preprocessing import MinMaxScaler\n",
    "from sklearn.linear_model import LogisticRegression\n",
    "from sklearn.model_selection import train_test_split\n",
    "from sklearn.metrics import accuracy_score\n",
    "from tqdm import tqdm\n",
    "\n",
    "# task 03\n",
    "from sklearn.neighbors import KNeighborsClassifier\n",
    "from sklearn.svm import SVC\n",
    "from sklearn.model_selection import RandomizedSearchCV\n",
    "\n",
    "#allow to print all variables in the notebook\n",
    "from IPython.core.interactiveshell import InteractiveShell\n",
    "InteractiveShell.ast_node_interactivity = \"all\"\n",
    "\n",
    "%matplotlib inline\n",
    "\n",
    "from sklearn.model_selection import RepeatedKFold, RandomizedSearchCV\n",
    "from scipy import stats\n"
   ]
  },
  {
   "cell_type": "markdown",
   "metadata": {},
   "source": [
    "### Opening data file and Separating parameters and labels"
   ]
  },
  {
   "cell_type": "code",
   "execution_count": 3,
   "metadata": {},
   "outputs": [],
   "source": [
    "fname = join(getcwd(),'data','data3SS2009.mat')\n",
    "mat_contents = sio.loadmat(fname)\n",
    "\n",
    "dataset = mat_contents['dataset']\n",
    "N, Chno, Nc = dataset.shape\n",
    "y = mat_contents['labels'].reshape(Nc)\n"
   ]
  },
  {
   "cell_type": "markdown",
   "metadata": {},
   "source": [
    "### Building AR Model"
   ]
  },
  {
   "cell_type": "code",
   "execution_count": 4,
   "metadata": {},
   "outputs": [
    {
     "data": {
      "text/plain": [
       "(850, 120)"
      ]
     },
     "execution_count": 4,
     "metadata": {},
     "output_type": "execute_result"
    }
   ],
   "source": [
    "modelOrder = 30\n",
    "\n",
    "x2 = dataset[:,1,:].transpose() # acelerômetro: base\n",
    "x3 = dataset[:,2,:].transpose() # acelerômetro: 1o andar\n",
    "x4 = dataset[:,3,:].transpose() # acelerômetro: 2o andar\n",
    "x5 = dataset[:,4,:].transpose() # acelerômetro: 3o andar\n",
    "\n",
    "x2r = [] \n",
    "x3r = []\n",
    "x4r = []\n",
    "x5r = []\n",
    "\n",
    "for case in x2: #iterating over cases (observations #=850)\n",
    "    res = AutoReg(case, lags = modelOrder-1).fit()\n",
    "    x2r.append(res.params)\n",
    "for case in x3: #iterating over cases (observations #=850)\n",
    "    res = AutoReg(case, lags = modelOrder-1).fit()\n",
    "    x3r.append(res.params)\n",
    "for case in x4: #iterating over cases (observations #=850)\n",
    "    res = AutoReg(case, lags = modelOrder-1).fit()\n",
    "    x4r.append(res.params)\n",
    "for case in x5: #iterating over cases (observations #=850)\n",
    "    res = AutoReg(case, lags = modelOrder-1).fit()\n",
    "    x5r.append(res.params)\n",
    "\n",
    "X1 = np.concatenate([x2r, x3r, x4r, x5r], axis=1)\n",
    "X1.shape"
   ]
  },
  {
   "cell_type": "markdown",
   "metadata": {},
   "source": [
    "### PCA analysis"
   ]
  },
  {
   "cell_type": "code",
   "execution_count": 5,
   "metadata": {},
   "outputs": [
    {
     "data": {
      "image/png": "[encoded data removed]",
      "text/plain": [
       "<Figure size 432x288 with 2 Axes>"
      ]
     },
     "metadata": {
      "needs_background": "light"
     },
     "output_type": "display_data"
    }
   ],
   "source": [
    "nComponents = 0.95  # variance ratio to be explained or number of components if integer\n",
    "\n",
    "pca = PCA(n_components=nComponents).fit(X1)\n",
    "pcaVariances = pca.explained_variance_ratio_\n",
    "pcaComponents = [i for i in range(len(pcaVariances))]\n",
    "\n",
    "ax = sns.barplot(pcaComponents, pcaVariances*100, color='b');\n",
    "ax2 = ax.twinx()\n",
    "ax2 = sns.lineplot(pcaComponents, np.cumsum(pcaVariances)*100, color='r', marker='D');\n",
    "ax.tick_params(axis='y', colors='b')\n",
    "ax2.tick_params(axis='y', colors='r')\n",
    "\n",
    "ax.set_title('PCA: nc= ' + str(pcaVariances.shape[0]) + ', explained variance = ' + str(sum(pcaVariances))[:5])\n",
    "ax.set_xlabel('PCA coefficent')\n",
    "ax.set_ylabel('Explained Variance [%]')\n",
    "ax2.set_ylabel('Cumulative Explained Variance [%]')\n",
    "pass;"
   ]
  },
  {
   "cell_type": "markdown",
   "metadata": {},
   "source": [
    "### Building x2 by transforming the x1 data with the previous PCA model and scaling X2"
   ]
  },
  {
   "cell_type": "code",
   "execution_count": 6,
   "metadata": {},
   "outputs": [],
   "source": [
    "X2 = pca.fit_transform(X1)\n",
    "X1_scaled = MinMaxScaler(feature_range=(-1,1)).fit_transform(X1)\n",
    "X2_scaled = MinMaxScaler(feature_range=(-1,1)).fit_transform(X2)"
   ]
  },
  {
   "cell_type": "markdown",
   "metadata": {},
   "source": [
    "### Creating pandas dataframe versions of the scaled x and x2, adding their labels"
   ]
  },
  {
   "cell_type": "code",
   "execution_count": 7,
   "metadata": {},
   "outputs": [],
   "source": [
    "dfx1 = pd.DataFrame(X1_scaled)\n",
    "dfx1 = dfx1.copy()\n",
    "dfx1['label'] = y\n",
    "\n",
    "dfx2 = pd.DataFrame(X2_scaled)\n",
    "dfx2 = dfx2.copy()\n",
    "dfx2['label'] = y"
   ]
  },
  {
   "cell_type": "markdown",
   "metadata": {},
   "source": [
    "###  1. Split your dataset into a) training/validation and b) test datasets (e.g. 60/40% ratio split)"
   ]
  },
  {
   "cell_type": "code",
   "execution_count": 8,
   "metadata": {},
   "outputs": [],
   "source": [
    "# From now on we dont use the '_scaled' for the test and train ensemples anymore\n",
    "test_size = 0.40\n",
    "\n",
    "X1_train, X1_test, y_train, y_test = train_test_split(X1_scaled, y, test_size=test_size, random_state=10)\n",
    "X2_train, X2_test, y2_train, y2_test = train_test_split(X2_scaled, y, test_size=test_size, random_state=10)"
   ]
  },
  {
   "cell_type": "markdown",
   "metadata": {},
   "source": [
    "### Softmax Linear Model (logistic regression with multiple classes) for the PCA reduced database"
   ]
  },
  {
   "cell_type": "code",
   "execution_count": 165,
   "metadata": {},
   "outputs": [
    {
     "data": {
      "image/png": "[encoded data removed]",
      "text/plain": [
       "<Figure size 432x432 with 1 Axes>"
      ]
     },
     "metadata": {
      "needs_background": "light"
     },
     "output_type": "display_data"
    }
   ],
   "source": [
    "#PCA SOFTMAX\n",
    "model_PCA_Soft = LogisticRegression(multi_class='multinomial', max_iter=200).fit(X2_train, y_train)\n",
    "\n",
    "yPred2_train = model_PCA_Soft.predict(X2_train)\n",
    "yPred2_test = model_PCA_Soft.predict(X2_test)\n",
    "\n",
    "fig = plt.figure(figsize=(6, 6));\n",
    "x=np.arange(1,18,1);\n",
    "\n",
    "ax = sns.scatterplot(y_test,yPred2_test, s=50);\n",
    "ax.set_xlabel('True label');\n",
    "ax.set_ylabel('Predicted label');\n",
    "ax=sns.lineplot(x=x, y=x, color='r');\n",
    "ax.legend(['x=y (correct predictions)','PCA Softmax']);\n",
    "\n",
    "ax.set_title('Softmax using PCA X2');"
   ]
  },
  {
   "cell_type": "markdown",
   "metadata": {},
   "source": [
    "___"
   ]
  },
  {
   "cell_type": "markdown",
   "metadata": {},
   "source": [
    "### Fitting SVM and k-NN with their default params, then saving it to a results Dataframe"
   ]
  },
  {
   "cell_type": "code",
   "execution_count": 152,
   "metadata": {},
   "outputs": [
    {
     "data": {
      "image/png": "[encoded data removed]",
      "text/plain": [
       "<Figure size 405.6x432 with 1 Axes>"
      ]
     },
     "metadata": {
      "needs_background": "light"
     },
     "output_type": "display_data"
    }
   ],
   "source": [
    "# Previous Model Softmax PCA\n",
    "dfResults = pd.DataFrame({\n",
    "        'Model': ['LogisticRegression'], \n",
    "        'Hyperparam': ['Default'], \n",
    "        'Train': accuracy_score(y_train, yPred2_train), \n",
    "        'Test': accuracy_score(y_test, yPred2_test)\n",
    "        })\n",
    "\n",
    "for i,model in enumerate([SVC(),KNeighborsClassifier()]):\n",
    "    modelTrained = model.fit(X2_train, y_train)\n",
    "    \n",
    "    yPred_train = modelTrained.predict(X2_train)\n",
    "    yPred_test = modelTrained.predict(X2_test)\n",
    "\n",
    "    dfResults = dfResults.append(pd.DataFrame({\n",
    "        'Model': [str(model).split('(')[0]],\n",
    "        'Hyperparam': ['Default'], \n",
    "        'Train': accuracy_score(y_train, yPred_train), \n",
    "        'Test': accuracy_score(y_test, yPred_test)\n",
    "        }))\n",
    "\n",
    "# unpivot dfResults in case of plotting graphs\n",
    "dfResultsPlot = dfResults.melt(id_vars=['Model', 'Hyperparam'], value_name='Accuracy', var_name='Ensemble')\n",
    "\n",
    "ax = sns.catplot(x='Model', y='Accuracy', hue='Ensemble', data=dfResultsPlot, kind=\"bar\", height=6, aspect=0.8);\n",
    "ax.set(ylim=(0.85, .95));\n",
    "ax.fig.subplots_adjust(top=.88) # adjust the Figure in rpxax\n",
    "ax.fig.suptitle('Models results with default parameters');\n",
    "# plt.xticks(rotation=0)\n",
    "pass;"
   ]
  },
  {
   "cell_type": "markdown",
   "metadata": {},
   "source": [
    "### 2. Use randomized search with repeated cross-validation for hyperparameter tuning. Use e.g. \n",
    "\n",
    "    A. n_splits = 5, n_repeats = 50 [RepeatedKFold]\n"
   ]
  },
  {
   "cell_type": "code",
   "execution_count": 59,
   "metadata": {},
   "outputs": [
    {
     "data": {
      "text/plain": [
       "RepeatedKFold(n_repeats=50, n_splits=5, random_state=10)"
      ]
     },
     "execution_count": 59,
     "metadata": {},
     "output_type": "execute_result"
    }
   ],
   "source": [
    "k_folds = 5\n",
    "n_repeats = 50\n",
    "rkf = RepeatedKFold(n_splits=k_folds, n_repeats=n_repeats, random_state=10)\n",
    "\n",
    "rkf"
   ]
  },
  {
   "cell_type": "markdown",
   "metadata": {},
   "source": [
    "\n",
    "    B. n_iter = 100, n_jobs = -1 (will use all your cores), cv = (object you created with RepeatedKFold in 2.A), scoring = (choose a performance metric for classification problems), [RandomizedSearchCV]\n",
    "\n",
    "    C. Suggestion: create estimator in a list and a list of dictionaries for param_distributions, as shown in the slides [RandomizedSearchCV]\n"
   ]
  },
  {
   "cell_type": "code",
   "execution_count": 114,
   "metadata": {},
   "outputs": [],
   "source": [
    "n_iter = 100\n",
    "n_jobs = -1\n",
    "scoring = 'accuracy'\n",
    "\n",
    "param_grids = []\n",
    "param_grids.append([# SoftMax = 0\n",
    "        {\n",
    "            'penalty':  ['l2', 'none'],\n",
    "            'C':    stats.randint(1,25), # def=1\n",
    "            'solver': ['newton-cg', 'sag', 'saga', 'lbfgs']\n",
    "        }])\n",
    "param_grids.append([# SVC = 1\n",
    "        {\n",
    "            'C':  stats.randint(1,25), # def=1\n",
    "            'kernel': ['linear', 'poly', 'rbf', 'sigmoid'], # excluded 'precomputed' cause it demands a square X matrix, not the case\n",
    "            'degree': stats.randint(1,15), # def = 3\n",
    "            'gamma': ['scale','auto']\n",
    "        }])\n",
    "param_grids.append([# KNN = 2\n",
    "        {\n",
    "            'n_neighbors':  stats.randint(3,11), # def = 5\n",
    "            'algorithm': ['auto', 'ball_tree', 'kd_tree', 'brute'], \n",
    "            'leaf_size': stats.randint(1,50) #def = 30            \n",
    "        }])\n",
    "\n",
    "models = [LogisticRegression(multi_class='multinomial'), SVC(), KNeighborsClassifier()]"
   ]
  },
  {
   "cell_type": "markdown",
   "metadata": {},
   "source": [
    "### Performing a randomized search for hyperparameters"
   ]
  },
  {
   "cell_type": "code",
   "execution_count": 119,
   "metadata": {},
   "outputs": [
    {
     "name": "stderr",
     "output_type": "stream",
     "text": [
      "C:\\ProgramData\\Anaconda3\\lib\\site-packages\\sklearn\\linear_model\\_logistic.py:1320: UserWarning: Setting penalty='none' will ignore the C and l1_ratio parameters\n",
      "  warnings.warn(\n",
      "C:\\ProgramData\\Anaconda3\\lib\\site-packages\\sklearn\\linear_model\\_logistic.py:762: ConvergenceWarning: lbfgs failed to converge (status=1):\n",
      "STOP: TOTAL NO. of ITERATIONS REACHED LIMIT.\n",
      "\n",
      "Increase the number of iterations (max_iter) or scale the data as shown in:\n",
      "    https://scikit-learn.org/stable/modules/preprocessing.html\n",
      "Please also refer to the documentation for alternative solver options:\n",
      "    https://scikit-learn.org/stable/modules/linear_model.html#logistic-regression\n",
      "  n_iter_i = _check_optimize_result(\n"
     ]
    },
    {
     "data": {
      "text/plain": [
       "RandomizedSearchCV(cv=RepeatedKFold(n_repeats=50, n_splits=5, random_state=10),\n",
       "                   estimator=LogisticRegression(multi_class='multinomial'),\n",
       "                   n_iter=100, n_jobs=-1,\n",
       "                   param_distributions=[{'C': <scipy.stats._distn_infrastructure.rv_frozen object at 0x00000194EAE08430>,\n",
       "                                         'penalty': ['l2', 'none'],\n",
       "                                         'solver': ['newton-cg', 'sag', 'saga',\n",
       "                                                    'lbfgs']}],\n",
       "                   random_state=10, scoring='accuracy')"
      ]
     },
     "execution_count": 119,
     "metadata": {},
     "output_type": "execute_result"
    },
    {
     "data": {
      "text/plain": [
       "RandomizedSearchCV(cv=RepeatedKFold(n_repeats=50, n_splits=5, random_state=10),\n",
       "                   estimator=SVC(), n_iter=100, n_jobs=-1,\n",
       "                   param_distributions=[{'C': <scipy.stats._distn_infrastructure.rv_frozen object at 0x00000194D9D95820>,\n",
       "                                         'degree': <scipy.stats._distn_infrastructure.rv_frozen object at 0x00000194F102B4F0>,\n",
       "                                         'gamma': ['scale', 'auto'],\n",
       "                                         'kernel': ['linear', 'poly', 'rbf',\n",
       "                                                    'sigmoid']}],\n",
       "                   random_state=10, scoring='accuracy')"
      ]
     },
     "execution_count": 119,
     "metadata": {},
     "output_type": "execute_result"
    },
    {
     "data": {
      "text/plain": [
       "RandomizedSearchCV(cv=RepeatedKFold(n_repeats=50, n_splits=5, random_state=10),\n",
       "                   estimator=KNeighborsClassifier(), n_iter=100, n_jobs=-1,\n",
       "                   param_distributions=[{'algorithm': ['auto', 'ball_tree',\n",
       "                                                       'kd_tree', 'brute'],\n",
       "                                         'leaf_size': <scipy.stats._distn_infrastructure.rv_frozen object at 0x00000194F102B070>,\n",
       "                                         'n_neighbors': <scipy.stats._distn_infrastructure.rv_frozen object at 0x00000194D338E3A0>}],\n",
       "                   random_state=10, scoring='accuracy')"
      ]
     },
     "execution_count": 119,
     "metadata": {},
     "output_type": "execute_result"
    }
   ],
   "source": [
    "rscv_results = []\n",
    "for k in range(len(models)):\n",
    "    random_search = RandomizedSearchCV(models[k], verbose=0, scoring=scoring, param_distributions=param_grids[k], n_iter=n_iter, n_jobs=n_jobs, cv=rkf, random_state=10);\n",
    "    random_search.fit(X2_train, y_train)\n",
    "\n",
    "    # saving rscv instance...\n",
    "    rscv_results.append(random_search)"
   ]
  },
  {
   "cell_type": "code",
   "execution_count": 154,
   "metadata": {},
   "outputs": [
    {
     "data": {
      "text/plain": [
       "LogisticRegression(C=5, multi_class='multinomial', penalty='none')"
      ]
     },
     "execution_count": 154,
     "metadata": {},
     "output_type": "execute_result"
    },
    {
     "data": {
      "text/plain": [
       "SVC(C=11, degree=2, kernel='poly')"
      ]
     },
     "execution_count": 154,
     "metadata": {},
     "output_type": "execute_result"
    },
    {
     "data": {
      "text/plain": [
       "KNeighborsClassifier(leaf_size=43, n_neighbors=3)"
      ]
     },
     "execution_count": 154,
     "metadata": {},
     "output_type": "execute_result"
    }
   ],
   "source": [
    "for rscv in rscv_results:\n",
    "    rscv.best_estimator_\n",
    "    # rscv.best_params_\n",
    "    \n",
    "    y_hat = rscv.predict(X2_test)\n",
    "           \n",
    "    dfResults = dfResults.append(pd.DataFrame({\n",
    "        'Model': [str(rscv.best_estimator_).split('(')[0]],\n",
    "        'Hyperparam': 'RandomSearch', \n",
    "        'Train': rscv.best_score_, \n",
    "        'Test': accuracy_score(y_hat, y_test)\n",
    "        }))\n"
   ]
  },
  {
   "cell_type": "code",
   "execution_count": 155,
   "metadata": {},
   "outputs": [
    {
     "data": {
      "text/html": [
       "<div>\n",
       "<style scoped>\n",
       "    .dataframe tbody tr th:only-of-type {\n",
       "        vertical-align: middle;\n",
       "    }\n",
       "\n",
       "    .dataframe tbody tr th {\n",
       "        vertical-align: top;\n",
       "    }\n",
       "\n",
       "    .dataframe thead th {\n",
       "        text-align: right;\n",
       "    }\n",
       "</style>\n",
       "<table border=\"1\" class=\"dataframe\">\n",
       "  <thead>\n",
       "    <tr style=\"text-align: right;\">\n",
       "      <th></th>\n",
       "      <th>Model</th>\n",
       "      <th>Hyperparam</th>\n",
       "      <th>Train</th>\n",
       "      <th>Test</th>\n",
       "    </tr>\n",
       "  </thead>\n",
       "  <tbody>\n",
       "    <tr>\n",
       "      <th>0</th>\n",
       "      <td>LogisticRegression</td>\n",
       "      <td>Default</td>\n",
       "      <td>0.896078</td>\n",
       "      <td>0.879412</td>\n",
       "    </tr>\n",
       "    <tr>\n",
       "      <th>0</th>\n",
       "      <td>SVC</td>\n",
       "      <td>Default</td>\n",
       "      <td>0.927451</td>\n",
       "      <td>0.908824</td>\n",
       "    </tr>\n",
       "    <tr>\n",
       "      <th>0</th>\n",
       "      <td>KNeighborsClassifier</td>\n",
       "      <td>Default</td>\n",
       "      <td>0.931373</td>\n",
       "      <td>0.902941</td>\n",
       "    </tr>\n",
       "    <tr>\n",
       "      <th>0</th>\n",
       "      <td>LogisticRegression</td>\n",
       "      <td>RandomSearch</td>\n",
       "      <td>0.932392</td>\n",
       "      <td>0.920588</td>\n",
       "    </tr>\n",
       "    <tr>\n",
       "      <th>0</th>\n",
       "      <td>SVC</td>\n",
       "      <td>RandomSearch</td>\n",
       "      <td>0.925255</td>\n",
       "      <td>0.932353</td>\n",
       "    </tr>\n",
       "    <tr>\n",
       "      <th>0</th>\n",
       "      <td>KNeighborsClassifier</td>\n",
       "      <td>RandomSearch</td>\n",
       "      <td>0.896078</td>\n",
       "      <td>0.905882</td>\n",
       "    </tr>\n",
       "  </tbody>\n",
       "</table>\n",
       "</div>"
      ],
      "text/plain": [
       "                  Model    Hyperparam     Train      Test\n",
       "0    LogisticRegression       Default  0.896078  0.879412\n",
       "0                   SVC       Default  0.927451  0.908824\n",
       "0  KNeighborsClassifier       Default  0.931373  0.902941\n",
       "0    LogisticRegression  RandomSearch  0.932392  0.920588\n",
       "0                   SVC  RandomSearch  0.925255  0.932353\n",
       "0  KNeighborsClassifier  RandomSearch  0.896078  0.905882"
      ]
     },
     "execution_count": 155,
     "metadata": {},
     "output_type": "execute_result"
    }
   ],
   "source": [
    "dfResults"
   ]
  },
  {
   "cell_type": "markdown",
   "metadata": {},
   "source": [
    "### Note\n",
    "For the train score we considered the property \"best_score_\" of the objects of the class RandomSearchCV that is a score average in the k-fold validation process\n",
    "\n",
    "As in the default parameters set we have trained the models directly using the X2 train_test_split returned matrix, we think that this Train score is no longer a good comparison. So we will use only the Test score to compare them"
   ]
  },
  {
   "cell_type": "markdown",
   "metadata": {},
   "source": [
    "### Results and Discussion"
   ]
  },
  {
   "cell_type": "code",
   "execution_count": 148,
   "metadata": {},
   "outputs": [
    {
     "data": {
      "image/png": "[encoded data removed]",
      "text/plain": [
       "<Figure size 576x432 with 3 Axes>"
      ]
     },
     "metadata": {
      "needs_background": "light"
     },
     "output_type": "display_data"
    }
   ],
   "source": [
    "ax = sns.catplot(x=\"Test\", row=\"Model\", y=\"Hyperparam\", data=dfResults, kind='bar', height=2, aspect=4, legend_out=True, margin_titles=False);\n",
    "ax.set_xlabels(\"Test Accuraxy\")\n",
    "ax.fig.suptitle(\"Test Accuracy of some models\")\n",
    "ax.fig.subplots_adjust(top=0.9)\n",
    "ax.set(xlim=(0.85, .95));\n",
    "pass;"
   ]
  },
  {
   "cell_type": "markdown",
   "metadata": {},
   "source": [
    "### Notes:\n",
    "\n",
    "1. We see some improve in the quality of both three models when tunning their parameters with the random search. More discrete gain in the k-nn model was observed. Maybe due to the choice of parameters.\n",
    "\n",
    "2. Gains of accuracy:\n",
    "\n",
    "    * Logistic Regression (Softmax): $ \\frac{accuracy(random search)}{accuracy(default)}-1 = \\frac{0.9205}{0.8794}-1 = 4.7 \\% $\n",
    "\n",
    "    * SVM gain of accuracy: $ \\frac{accuracy(random search)}{accuracy(default)}-1 = \\frac{0.9323}{0.9088}-1 = 2.6 \\% $\n",
    "    \n",
    "    * k-NN gain of accuracy: $ \\frac{accuracy(random search)}{accuracy(default)}-1 = \\frac{0.9059}{0.9029}-1 = 0.3 \\% $\n"
   ]
  }
 ],
 "metadata": {
  "interpreter": {
   "hash": "ac59ebe37160ed0dfa835113d9b8498d9f09ceb179beaac4002f036b9467c963"
  },
  "kernelspec": {
   "display_name": "Python 3.9.11 64-bit",
   "language": "python",
   "name": "python3"
  },
  "language_info": {
   "codemirror_mode": {
    "name": "ipython",
    "version": 3
   },
   "file_extension": ".py",
   "mimetype": "text/x-python",
   "name": "python",
   "nbconvert_exporter": "python",
   "pygments_lexer": "ipython3",
   "version": "3.8.3"
  },
  "orig_nbformat": 4
 },
 "nbformat": 4,
 "nbformat_minor": 2
}
